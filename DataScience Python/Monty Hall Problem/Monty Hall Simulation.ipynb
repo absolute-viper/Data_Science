{
 "cells": [
  {
   "cell_type": "markdown",
   "metadata": {},
   "source": [
    "#################\n",
    "# Ritik Kumar Singh (AM.EN.U4CSE20061)\n",
    "# CSE A Batch 2020\n",
    "# Monty Hall Problem\n",
    "#################"
   ]
  },
  {
   "cell_type": "markdown",
   "source": [
    "# My approach towards the problem begins with joining the smaller elements(Random Element behind doors, Selecting the door, Masking the elements,Keeping the current choice and predicting the outcome)\n",
    "# 1) We begin with an array of possible values and a function that can randomly place these values behind doors\n",
    "# 2) We have a function to take input from the user and select the door(marked as \"\"HOLD\"\")\n",
    "# 3) One door where there is a \"\"GOAT\"\" has to be revealed and another door has to be marked as \"\"SELECTED\"\"\n",
    "# STEP 2 and 3 are done by randomly selecting which door to reveal\n",
    "# 4)  Further we confirm the choice of the user and reveal the result as per the choice selected\n",
    "# SIMULATION:\n",
    "#  A) Single run: The initial() function call runs a single instance of the monty hall problem with the user interaction enabled.\n",
    "#  B) Iterative run: The simulation() function call runs i iterations of the functions with the fixed choice of change/open the current door and prints the probability of winning every 50 iterations\n"
   ],
   "metadata": {
    "collapsed": false
   }
  },
  {
   "cell_type": "code",
   "execution_count": 1,
   "metadata": {},
   "outputs": [],
   "source": [
    "import numpy as np\n",
    "import pandas as pd"
   ]
  },
  {
   "cell_type": "code",
   "execution_count": 2,
   "metadata": {},
   "outputs": [],
   "source": [
    "# defining 3 choices\n",
    "option = ['Goat','Car','Goat']\n",
    "nums = [0,1,2]\n"
   ]
  },
  {
   "cell_type": "code",
   "execution_count": 3,
   "metadata": {},
   "outputs": [],
   "source": [
    "##### Function to randomly arrange the 3 options\n",
    "import random\n",
    "def initialize_doors():\n",
    "    arrange = random.sample(option,3)\n",
    "    return arrange"
   ]
  },
  {
   "cell_type": "code",
   "execution_count": 4,
   "metadata": {},
   "outputs": [],
   "source": [
    "#### Function to Hide other elements and\n",
    "#### Open a door with a goat behind it\n",
    "def masker(j,arrangement):\n",
    "    x = random.choice(arrangement)\n",
    "    i = arrangement.index(x)\n",
    "    while x != \"Goat\":\n",
    "        x = random.choice(arrangement)\n",
    "        i = arrangement.index(x)\n",
    "    s = set([i,j])\n",
    "    temp = [x for x in nums if x not in s]\n",
    "    arrangement[temp[0]] = \"SELECT\"\n",
    "    return arrangement,temp[0]\n",
    "\n",
    "\n",
    "#### Function to select a Door\n",
    "def select(opt,arrangement):\n",
    "    hide = arrangement[:]\n",
    "    for i in nums:\n",
    "        if i == opt-1: hide[i] = \"HOLD\"\n",
    "    return masker(opt-1,hide)"
   ]
  },
  {
   "cell_type": "code",
   "execution_count": 5,
   "metadata": {},
   "outputs": [],
   "source": [
    "#### Function to Keep or Change Current Choice\n",
    "def confirm(ind_1,ind_2,arrangement,conf):\n",
    "    if conf == \"Yes\":\n",
    "        if arrangement[ind_1] == \"Car\":\n",
    "            return True\n",
    "        else: return False\n",
    "    elif conf == \"Change\":\n",
    "        if arrangement[ind_2] == \"Car\":\n",
    "            return True\n",
    "        else: return False"
   ]
  },
  {
   "cell_type": "code",
   "execution_count": 6,
   "metadata": {},
   "outputs": [
    {
     "name": "stdout",
     "output_type": "stream",
     "text": [
      "['Option 1', 'Option 2', 'Option 3']\n",
      "Door Chosen: 1\n",
      "['HOLD', 'Goat', 'SELECT']\n",
      "Input:  Yes\n",
      "You WON\n",
      "['Car', 'Goat', 'Goat']\n"
     ]
    }
   ],
   "source": [
    "##### Function call for single test run on Monty Hall Simulation\n",
    "def initial():\n",
    "    current = initialize_doors()\n",
    "    print(\"['Option 1', 'Option 2', 'Option 3']\")\n",
    "    choice = int(input(\"Enter an option:\"))\n",
    "    print(\"Door Chosen:\",choice)\n",
    "    after_select,hidden = select(choice,current)\n",
    "    print(after_select)\n",
    "    conf = input(\"Type \\\"Yes\\\" to keep the current choice or \\\"Change\\\" to select the other DOOR\\t\")\n",
    "    print(\"Input: \", conf)\n",
    "    if confirm(choice-1,hidden,current,conf):\n",
    "        print(\"You WON\")\n",
    "    else: print(\"You LOOSE\")\n",
    "    print(current)\n",
    "\n",
    "initial()"
   ]
  },
  {
   "cell_type": "code",
   "execution_count": 7,
   "metadata": {},
   "outputs": [],
   "source": [
    "##### Function call for simulating Monty Hall Problem\n",
    "def simulation(choice,conf):\n",
    "    current = initialize_doors()\n",
    "    after_select,hidden = select(choice,current)\n",
    "    if confirm(choice-1,hidden,current,conf):\n",
    "        return True\n",
    "    return False"
   ]
  },
  {
   "cell_type": "code",
   "execution_count": 18,
   "metadata": {
    "scrolled": false
   },
   "outputs": [
    {
     "name": "stdout",
     "output_type": "stream",
     "text": [
      "Iteration: 50 \tWin Probability:46.000 \tLoss Probability:54.000\n",
      "Iteration: 100 \tWin Probability:38.000 \tLoss Probability:62.000\n",
      "Iteration: 150 \tWin Probability:36.667 \tLoss Probability:63.333\n",
      "Iteration: 200 \tWin Probability:34.500 \tLoss Probability:65.500\n",
      "Iteration: 250 \tWin Probability:34.800 \tLoss Probability:65.200\n",
      "Iteration: 300 \tWin Probability:34.000 \tLoss Probability:66.000\n",
      "Iteration: 350 \tWin Probability:35.429 \tLoss Probability:64.571\n",
      "Iteration: 400 \tWin Probability:34.250 \tLoss Probability:65.750\n",
      "Iteration: 450 \tWin Probability:33.556 \tLoss Probability:66.444\n",
      "Iteration: 500 \tWin Probability:33.600 \tLoss Probability:66.400\n",
      "Iteration: 550 \tWin Probability:33.273 \tLoss Probability:66.727\n",
      "Iteration: 600 \tWin Probability:32.667 \tLoss Probability:67.333\n",
      "Iteration: 650 \tWin Probability:32.462 \tLoss Probability:67.538\n",
      "Iteration: 700 \tWin Probability:33.143 \tLoss Probability:66.857\n",
      "Iteration: 750 \tWin Probability:32.533 \tLoss Probability:67.467\n",
      "Iteration: 800 \tWin Probability:32.625 \tLoss Probability:67.375\n",
      "Iteration: 850 \tWin Probability:32.706 \tLoss Probability:67.294\n",
      "Iteration: 900 \tWin Probability:32.889 \tLoss Probability:67.111\n",
      "Iteration: 950 \tWin Probability:33.053 \tLoss Probability:66.947\n",
      "Iteration: 1000 \tWin Probability:32.900 \tLoss Probability:67.100\n"
     ]
    }
   ],
   "source": [
    "###### Simulating Monty Hall and calculating Probability\n",
    "Iteration = 1000                # No. of iteration\n",
    "door_change = \"Yes\"             # To Open selected DOOR or Open the other DOOR\n",
    "def door_choice():              # Function to randomly select a door\n",
    "    return random.choice([1,2,3])\n",
    "\n",
    "def probability(win_count,loss_count):    # Function to calculate Probability\n",
    "    total = win_count+loss_count\n",
    "    win_percent = (win_count/total) *100\n",
    "    loss_percent = (loss_count/total) * 100\n",
    "    return win_percent,loss_percent\n",
    "\n",
    "win = loss = 0\n",
    "for i in range(Iteration):\n",
    "    if simulation(door_choice(),door_change):\n",
    "        win += 1\n",
    "    else: loss += 1\n",
    "    if(i+1)%50 == 0:\n",
    "        x,y = probability(win,loss)\n",
    "        print(\"Iteration:\",i+1,\"\\tWin Probability:%.3f\"%x,\"\\tLoss Probability:%.3f\"%y)"
   ]
  },
  {
   "cell_type": "code",
   "execution_count": 19,
   "metadata": {
    "scrolled": false
   },
   "outputs": [
    {
     "name": "stdout",
     "output_type": "stream",
     "text": [
      "Iteration: 50 \tWin Probability:34.762 \tLoss Probability:65.238\n",
      "Iteration: 100 \tWin Probability:36.545 \tLoss Probability:63.455\n",
      "Iteration: 150 \tWin Probability:38.087 \tLoss Probability:61.913\n",
      "Iteration: 200 \tWin Probability:39.500 \tLoss Probability:60.500\n",
      "Iteration: 250 \tWin Probability:40.720 \tLoss Probability:59.280\n",
      "Iteration: 300 \tWin Probability:41.615 \tLoss Probability:58.385\n",
      "Iteration: 350 \tWin Probability:42.815 \tLoss Probability:57.185\n",
      "Iteration: 400 \tWin Probability:44.071 \tLoss Probability:55.929\n",
      "Iteration: 450 \tWin Probability:44.897 \tLoss Probability:55.103\n",
      "Iteration: 500 \tWin Probability:45.667 \tLoss Probability:54.333\n",
      "Iteration: 550 \tWin Probability:46.516 \tLoss Probability:53.484\n",
      "Iteration: 600 \tWin Probability:46.625 \tLoss Probability:53.375\n",
      "Iteration: 650 \tWin Probability:47.455 \tLoss Probability:52.545\n",
      "Iteration: 700 \tWin Probability:48.118 \tLoss Probability:51.882\n",
      "Iteration: 750 \tWin Probability:48.400 \tLoss Probability:51.600\n",
      "Iteration: 800 \tWin Probability:48.833 \tLoss Probability:51.167\n",
      "Iteration: 850 \tWin Probability:49.568 \tLoss Probability:50.432\n",
      "Iteration: 900 \tWin Probability:50.000 \tLoss Probability:50.000\n",
      "Iteration: 950 \tWin Probability:50.615 \tLoss Probability:49.385\n",
      "Iteration: 1000 \tWin Probability:51.000 \tLoss Probability:49.000\n"
     ]
    }
   ],
   "source": [
    "Iteration = 1000                # No. of iteration\n",
    "door_change = \"Change\"          # To Open selected DOOR or Open the other DOOR\n",
    "for i in range(Iteration):\n",
    "    if simulation(door_choice(),door_change):\n",
    "        win += 1\n",
    "    else: loss += 1\n",
    "    if (i+1)%50 == 0:\n",
    "        x,y = probability(win,loss)\n",
    "        print(\"Iteration:\",i+1,\"\\tWin Probability:%.3f\"%x,\"\\tLoss Probability:%.3f\"%y)"
   ]
  },
  {
   "cell_type": "code",
   "execution_count": 9,
   "metadata": {},
   "outputs": [],
   "source": []
  }
 ],
 "metadata": {
  "kernelspec": {
   "display_name": "Python 3 (ipykernel)",
   "language": "python",
   "name": "python3"
  },
  "language_info": {
   "codemirror_mode": {
    "name": "ipython",
    "version": 3
   },
   "file_extension": ".py",
   "mimetype": "text/x-python",
   "name": "python",
   "nbconvert_exporter": "python",
   "pygments_lexer": "ipython3",
   "version": "3.9.12"
  }
 },
 "nbformat": 4,
 "nbformat_minor": 1
}
