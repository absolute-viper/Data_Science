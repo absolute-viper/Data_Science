{
 "cells": [
  {
   "cell_type": "code",
   "execution_count": 31,
   "metadata": {
    "collapsed": true
   },
   "outputs": [],
   "source": [
    "import pandas as pd\n",
    "import numpy as np\n",
    "import matplotlib.pyplot as plt"
   ]
  },
  {
   "cell_type": "code",
   "execution_count": 48,
   "outputs": [
    {
     "data": {
      "text/plain": "      Year          Title          Genre\n0      2000       Aaghaaz       Thriller\n1      2000  Aaj Ka Ravan          Drama\n2      2000       Anjaane        Romance\n3      2000   Anokha Moti         Family\n4      2000  Apradhi Kaun       Thriller\n...     ...           ...            ...\n1784   2016     Kahaani 2       Thriller\n1785   2016       Befikre        Romance\n1786   2016  Wajah Tum Ho  Romance/drama\n1787   2016        Dangal         Biopic\n1788   2017           NaN            NaN\n\n[1789 rows x 3 columns]",
      "text/html": "<div>\n<style scoped>\n    .dataframe tbody tr th:only-of-type {\n        vertical-align: middle;\n    }\n\n    .dataframe tbody tr th {\n        vertical-align: top;\n    }\n\n    .dataframe thead th {\n        text-align: right;\n    }\n</style>\n<table border=\"1\" class=\"dataframe\">\n  <thead>\n    <tr style=\"text-align: right;\">\n      <th></th>\n      <th>Year</th>\n      <th>Title</th>\n      <th>Genre</th>\n    </tr>\n  </thead>\n  <tbody>\n    <tr>\n      <th>0</th>\n      <td>2000</td>\n      <td>Aaghaaz</td>\n      <td>Thriller</td>\n    </tr>\n    <tr>\n      <th>1</th>\n      <td>2000</td>\n      <td>Aaj Ka Ravan</td>\n      <td>Drama</td>\n    </tr>\n    <tr>\n      <th>2</th>\n      <td>2000</td>\n      <td>Anjaane</td>\n      <td>Romance</td>\n    </tr>\n    <tr>\n      <th>3</th>\n      <td>2000</td>\n      <td>Anokha Moti</td>\n      <td>Family</td>\n    </tr>\n    <tr>\n      <th>4</th>\n      <td>2000</td>\n      <td>Apradhi Kaun</td>\n      <td>Thriller</td>\n    </tr>\n    <tr>\n      <th>...</th>\n      <td>...</td>\n      <td>...</td>\n      <td>...</td>\n    </tr>\n    <tr>\n      <th>1784</th>\n      <td>2016</td>\n      <td>Kahaani 2</td>\n      <td>Thriller</td>\n    </tr>\n    <tr>\n      <th>1785</th>\n      <td>2016</td>\n      <td>Befikre</td>\n      <td>Romance</td>\n    </tr>\n    <tr>\n      <th>1786</th>\n      <td>2016</td>\n      <td>Wajah Tum Ho</td>\n      <td>Romance/drama</td>\n    </tr>\n    <tr>\n      <th>1787</th>\n      <td>2016</td>\n      <td>Dangal</td>\n      <td>Biopic</td>\n    </tr>\n    <tr>\n      <th>1788</th>\n      <td>2017</td>\n      <td>NaN</td>\n      <td>NaN</td>\n    </tr>\n  </tbody>\n</table>\n<p>1789 rows × 3 columns</p>\n</div>"
     },
     "execution_count": 48,
     "metadata": {},
     "output_type": "execute_result"
    }
   ],
   "source": [
    "df = pd.read_excel(\"F:/testing/list 1 modified.xlsx\")\n",
    "df"
   ],
   "metadata": {
    "collapsed": false
   }
  },
  {
   "cell_type": "code",
   "execution_count": 47,
   "outputs": [
    {
     "data": {
      "text/plain": "      Year         Title          Genre\n0     2000       Aaghaaz       Thriller\n1     2000  Aaj Ka Ravan          Drama\n2     2000       Anjaane        Romance\n3     2000   Anokha Moti         Family\n4     2000  Apradhi Kaun       Thriller\n...    ...           ...            ...\n1784  2016     Kahaani 2       Thriller\n1785  2016       Befikre        Romance\n1786  2016  Wajah Tum Ho  Romance/drama\n1787  2016        Dangal         Biopic\n1788  2017           NaN            NaN\n\n[1789 rows x 3 columns]",
      "text/html": "<div>\n<style scoped>\n    .dataframe tbody tr th:only-of-type {\n        vertical-align: middle;\n    }\n\n    .dataframe tbody tr th {\n        vertical-align: top;\n    }\n\n    .dataframe thead th {\n        text-align: right;\n    }\n</style>\n<table border=\"1\" class=\"dataframe\">\n  <thead>\n    <tr style=\"text-align: right;\">\n      <th></th>\n      <th>Year</th>\n      <th>Title</th>\n      <th>Genre</th>\n    </tr>\n  </thead>\n  <tbody>\n    <tr>\n      <th>0</th>\n      <td>2000</td>\n      <td>Aaghaaz</td>\n      <td>Thriller</td>\n    </tr>\n    <tr>\n      <th>1</th>\n      <td>2000</td>\n      <td>Aaj Ka Ravan</td>\n      <td>Drama</td>\n    </tr>\n    <tr>\n      <th>2</th>\n      <td>2000</td>\n      <td>Anjaane</td>\n      <td>Romance</td>\n    </tr>\n    <tr>\n      <th>3</th>\n      <td>2000</td>\n      <td>Anokha Moti</td>\n      <td>Family</td>\n    </tr>\n    <tr>\n      <th>4</th>\n      <td>2000</td>\n      <td>Apradhi Kaun</td>\n      <td>Thriller</td>\n    </tr>\n    <tr>\n      <th>...</th>\n      <td>...</td>\n      <td>...</td>\n      <td>...</td>\n    </tr>\n    <tr>\n      <th>1784</th>\n      <td>2016</td>\n      <td>Kahaani 2</td>\n      <td>Thriller</td>\n    </tr>\n    <tr>\n      <th>1785</th>\n      <td>2016</td>\n      <td>Befikre</td>\n      <td>Romance</td>\n    </tr>\n    <tr>\n      <th>1786</th>\n      <td>2016</td>\n      <td>Wajah Tum Ho</td>\n      <td>Romance/drama</td>\n    </tr>\n    <tr>\n      <th>1787</th>\n      <td>2016</td>\n      <td>Dangal</td>\n      <td>Biopic</td>\n    </tr>\n    <tr>\n      <th>1788</th>\n      <td>2017</td>\n      <td>NaN</td>\n      <td>NaN</td>\n    </tr>\n  </tbody>\n</table>\n<p>1789 rows × 3 columns</p>\n</div>"
     },
     "execution_count": 47,
     "metadata": {},
     "output_type": "execute_result"
    }
   ],
   "source": [
    "df.explode('Genre')\n",
    "df"
   ],
   "metadata": {
    "collapsed": false
   }
  },
  {
   "cell_type": "code",
   "execution_count": 35,
   "outputs": [
    {
     "name": "stdout",
     "output_type": "stream",
     "text": [
      "2\n"
     ]
    }
   ],
   "source": [
    "df['Genre']."
   ],
   "metadata": {
    "collapsed": false
   }
  },
  {
   "cell_type": "code",
   "execution_count": 16,
   "outputs": [
    {
     "data": {
      "text/plain": "pandas.core.series.Series"
     },
     "execution_count": 16,
     "metadata": {},
     "output_type": "execute_result"
    }
   ],
   "source": [
    "df.join(s.apply(lambda x: Series(x.split(':'))))"
   ],
   "metadata": {
    "collapsed": false
   }
  },
  {
   "cell_type": "code",
   "execution_count": 30,
   "outputs": [
    {
     "data": {
      "text/plain": "Genre\nDrama                      264\nComedy                     207\nRomance                    142\nThriller                   135\nAction                      86\n                          ... \nDrama, Action, Thriller      1\nDrama Thriller               1\nDocudrama                    1\nDance/drama                  1\nromantic comedy              1\nLength: 404, dtype: int64"
     },
     "execution_count": 30,
     "metadata": {},
     "output_type": "execute_result"
    }
   ],
   "source": [
    "df.value_counts('Genre')"
   ],
   "metadata": {
    "collapsed": false
   }
  },
  {
   "cell_type": "code",
   "execution_count": null,
   "outputs": [],
   "source": [],
   "metadata": {
    "collapsed": false
   }
  }
 ],
 "metadata": {
  "kernelspec": {
   "display_name": "Python 3",
   "language": "python",
   "name": "python3"
  },
  "language_info": {
   "codemirror_mode": {
    "name": "ipython",
    "version": 2
   },
   "file_extension": ".py",
   "mimetype": "text/x-python",
   "name": "python",
   "nbconvert_exporter": "python",
   "pygments_lexer": "ipython2",
   "version": "2.7.6"
  }
 },
 "nbformat": 4,
 "nbformat_minor": 0
}
