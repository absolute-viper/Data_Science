{
 "cells": [
  {
   "cell_type": "markdown",
   "source": [
    "#################\n",
    "# Ritik Kumar Singh (AM.EN.U4CSE20061)\n",
    "# CSE A Batch 2020\n",
    "# Class Assignment\n",
    "#################"
   ],
   "metadata": {
    "collapsed": false
   }
  },
  {
   "cell_type": "code",
   "execution_count": 1,
   "outputs": [],
   "source": [
    "import numpy as np\n",
    "import pandas as pd"
   ],
   "metadata": {
    "collapsed": false
   }
  },
  {
   "cell_type": "code",
   "execution_count": 7,
   "outputs": [
    {
     "name": "stdout",
     "output_type": "stream",
     "text": [
      "Probability of Getting Head 0.47\n"
     ]
    }
   ],
   "source": [
    "Coin = ['Head','Tails']\n",
    "output = np.random.choice(Coin,100)\n",
    "count = 0\n",
    "for otp in output:\n",
    "    if otp == 'Head':\n",
    "        count+=1\n",
    "print(\"Probability of Getting Head {0}\".format(count/100))"
   ],
   "metadata": {
    "collapsed": false
   }
  },
  {
   "cell_type": "code",
   "execution_count": null,
   "outputs": [],
   "source": [],
   "metadata": {
    "collapsed": false,
    "pycharm": {
     "is_executing": true
    }
   }
  },
  {
   "cell_type": "code",
   "execution_count": 5,
   "outputs": [],
   "source": [],
   "metadata": {
    "collapsed": false
   }
  }
 ],
 "metadata": {
  "kernelspec": {
   "display_name": "Python 3",
   "language": "python",
   "name": "python3"
  },
  "language_info": {
   "codemirror_mode": {
    "name": "ipython",
    "version": 2
   },
   "file_extension": ".py",
   "mimetype": "text/x-python",
   "name": "python",
   "nbconvert_exporter": "python",
   "pygments_lexer": "ipython2",
   "version": "2.7.6"
  }
 },
 "nbformat": 4,
 "nbformat_minor": 0
}
