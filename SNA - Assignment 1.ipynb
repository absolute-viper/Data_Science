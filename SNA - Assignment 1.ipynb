{
 "cells": [
  {
   "cell_type": "code",
   "execution_count": 4,
   "metadata": {
    "collapsed": true
   },
   "outputs": [],
   "source": [
    "import networkx as nx\n",
    "from operator import itemgetter\n",
    "from pylab import *\n",
    "import matplotlib as plt"
   ]
  },
  {
   "cell_type": "code",
   "execution_count": 5,
   "outputs": [],
   "source": [
    "graph1 = nx.Graph()\n",
    "graph1.add_nodes_from(['A','B','C','D','E'])\n",
    "graph1.add_edges_from([('A','B'),('C','E'),('C','D'),('E','A'),('E','B')])"
   ],
   "metadata": {
    "collapsed": false
   }
  },
  {
   "cell_type": "code",
   "execution_count": 7,
   "outputs": [
    {
     "name": "stdout",
     "output_type": "stream",
     "text": [
      "('E', 0.75)\n",
      "('A', 0.5)\n",
      "('B', 0.5)\n",
      "('C', 0.5)\n",
      "('D', 0.25)\n"
     ]
    }
   ],
   "source": [
    "### Degree Centrality\n",
    "degree_centrality = nx.degree_centrality(graph1)\n",
    "sorted_degree = sorted(degree_centrality.items(),key=itemgetter(1),reverse=True)\n",
    "for d in sorted_degree:\n",
    "    print(d)"
   ],
   "metadata": {
    "collapsed": false
   }
  },
  {
   "cell_type": "code",
   "execution_count": 8,
   "outputs": [
    {
     "name": "stdout",
     "output_type": "stream",
     "text": [
      "('E', 0.8)\n",
      "('C', 0.6666666666666666)\n",
      "('A', 0.5714285714285714)\n",
      "('B', 0.5714285714285714)\n",
      "('D', 0.4444444444444444)\n"
     ]
    }
   ],
   "source": [
    "### Closeness Centrality\n",
    "closeness_centrality = nx.closeness_centrality(graph1)\n",
    "sorted_closeness = sorted(closeness_centrality.items(),key=itemgetter(1),reverse=True)\n",
    "for d in sorted_closeness:\n",
    "    print(d)"
   ],
   "metadata": {
    "collapsed": false
   }
  },
  {
   "cell_type": "code",
   "execution_count": 9,
   "outputs": [
    {
     "name": "stdout",
     "output_type": "stream",
     "text": [
      "('E', 0.6666666666666666)\n",
      "('C', 0.5)\n",
      "('A', 0.0)\n",
      "('B', 0.0)\n",
      "('D', 0.0)\n"
     ]
    }
   ],
   "source": [
    "### Betweenness Centrality\n",
    "betweenness_centrality = nx.betweenness_centrality(graph1,normalized=True,endpoints=False)\n",
    "sorted_betweenness = sorted(betweenness_centrality.items(),key=itemgetter(1),reverse=True)\n",
    "for d in sorted_betweenness:\n",
    "    print(d)"
   ],
   "metadata": {
    "collapsed": false
   }
  },
  {
   "cell_type": "code",
   "execution_count": 10,
   "outputs": [
    {
     "name": "stdout",
     "output_type": "stream",
     "text": [
      "('E', 0.6037035301706529)\n",
      "('A', 0.4971525984525413)\n",
      "('B', 0.4971525984525413)\n",
      "('C', 0.34248744909850964)\n",
      "('D', 0.15467056143060928)\n"
     ]
    }
   ],
   "source": [
    "### EigenVector Centrality\n",
    "eigenvector_centrality = nx.eigenvector_centrality(graph1)\n",
    "sorted_eigenvector = sorted(eigenvector_centrality.items(),key=itemgetter(1),reverse=True)\n",
    "for d in sorted_eigenvector:\n",
    "    print(d)"
   ],
   "metadata": {
    "collapsed": false
   }
  },
  {
   "cell_type": "code",
   "execution_count": 15,
   "outputs": [],
   "source": [
    "graph2 = nx.DiGraph()\n",
    "graph2.add_nodes_from(['A','B','C','D','E','F'])\n",
    "graph2.add_edges_from([('A','B'),('B','C'),('D','B'),('C','E'),('E','D'),('E','F')])"
   ],
   "metadata": {
    "collapsed": false
   }
  },
  {
   "cell_type": "code",
   "execution_count": 16,
   "outputs": [
    {
     "name": "stdout",
     "output_type": "stream",
     "text": [
      "('E', 0.23434323431774073)\n",
      "('C', 0.2220915558839503)\n",
      "('B', 0.20767973218464117)\n",
      "('D', 0.14516058408373717)\n",
      "('F', 0.14516058408373717)\n",
      "('A', 0.04556430944619322)\n"
     ]
    }
   ],
   "source": [
    "sorted_pr = sorted(nx.pagerank(graph2).items(),key=itemgetter(1),reverse=True)\n",
    "for d in sorted_pr:\n",
    "    print(d)"
   ],
   "metadata": {
    "collapsed": false
   }
  },
  {
   "cell_type": "code",
   "execution_count": null,
   "outputs": [],
   "source": [],
   "metadata": {
    "collapsed": false
   }
  }
 ],
 "metadata": {
  "kernelspec": {
   "name": "python3",
   "language": "python",
   "display_name": "Python 3 (ipykernel)"
  },
  "language_info": {
   "codemirror_mode": {
    "name": "ipython",
    "version": 2
   },
   "file_extension": ".py",
   "mimetype": "text/x-python",
   "name": "python",
   "nbconvert_exporter": "python",
   "pygments_lexer": "ipython2",
   "version": "2.7.6"
  }
 },
 "nbformat": 4,
 "nbformat_minor": 0
}
