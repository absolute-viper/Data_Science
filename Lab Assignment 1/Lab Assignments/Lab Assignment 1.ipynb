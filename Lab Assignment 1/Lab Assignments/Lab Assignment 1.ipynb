{
 "cells": [
  {
   "cell_type": "markdown",
   "source": [
    "#################\n",
    "# Ritik Kumar Singh (AM.EN.U4CSE20061)\n",
    "# CSE A Batch 2020\n",
    "# Lab Assignment 1 (Meteor-landings)\n",
    "#################"
   ],
   "metadata": {
    "collapsed": false
   }
  },
  {
   "cell_type": "code",
   "execution_count": 5,
   "id": "3c00d56e",
   "metadata": {},
   "outputs": [],
   "source": [
    "import numpy as np\n",
    "import pandas as pd\n",
    "df = pd.read_csv(\"C:/Users/ritik/Jupyter Notebooks/DataSets/meteorite-landings.csv\")"
   ]
  },
  {
   "cell_type": "code",
   "execution_count": 6,
   "id": "14944fa2",
   "metadata": {},
   "outputs": [
    {
     "data": {
      "text/plain": "(45716, 10)"
     },
     "execution_count": 6,
     "metadata": {},
     "output_type": "execute_result"
    }
   ],
   "source": [
    "####### QUES 2\n",
    "df.shape"
   ]
  },
  {
   "cell_type": "code",
   "execution_count": 7,
   "id": "fcc5b8d6",
   "metadata": {},
   "outputs": [
    {
     "data": {
      "text/plain": "count    45428.000000\nmean      1991.772189\nstd         27.181247\nmin        301.000000\n25%       1987.000000\n50%       1998.000000\n75%       2003.000000\nmax       2501.000000\nName: year, dtype: float64"
     },
     "execution_count": 7,
     "metadata": {},
     "output_type": "execute_result"
    }
   ],
   "source": [
    "####### QUES 3\n",
    "df['year'].describe()"
   ]
  },
  {
   "cell_type": "code",
   "execution_count": 8,
   "id": "6f5dfec7",
   "metadata": {},
   "outputs": [
    {
     "data": {
      "text/plain": "                        name     id nametype           recclass   mass   fall  \\\n16356                 Havana  11857    Valid  Iron, IAB complex    NaN  Found   \n30679  Northwest Africa 7701  57150    Valid                CK6   55.0  Found   \n38188                     Ur  24125    Valid               Iron    NaN  Found   \n38301        Wietrzno-Bobrka  24259    Valid               Iron  376.0  Found   \n\n         year    reclat   reclong              GeoLocation  \n16356   301.0  40.33333 -90.05000  (40.333330, -90.050000)  \n30679  2101.0   0.00000   0.00000     (0.000000, 0.000000)  \n38188  2501.0  30.90000  46.01667   (30.900000, 46.016670)  \n38301   601.0  49.41667  21.70000   (49.416670, 21.700000)  ",
      "text/html": "<div>\n<style scoped>\n    .dataframe tbody tr th:only-of-type {\n        vertical-align: middle;\n    }\n\n    .dataframe tbody tr th {\n        vertical-align: top;\n    }\n\n    .dataframe thead th {\n        text-align: right;\n    }\n</style>\n<table border=\"1\" class=\"dataframe\">\n  <thead>\n    <tr style=\"text-align: right;\">\n      <th></th>\n      <th>name</th>\n      <th>id</th>\n      <th>nametype</th>\n      <th>recclass</th>\n      <th>mass</th>\n      <th>fall</th>\n      <th>year</th>\n      <th>reclat</th>\n      <th>reclong</th>\n      <th>GeoLocation</th>\n    </tr>\n  </thead>\n  <tbody>\n    <tr>\n      <th>16356</th>\n      <td>Havana</td>\n      <td>11857</td>\n      <td>Valid</td>\n      <td>Iron, IAB complex</td>\n      <td>NaN</td>\n      <td>Found</td>\n      <td>301.0</td>\n      <td>40.33333</td>\n      <td>-90.05000</td>\n      <td>(40.333330, -90.050000)</td>\n    </tr>\n    <tr>\n      <th>30679</th>\n      <td>Northwest Africa 7701</td>\n      <td>57150</td>\n      <td>Valid</td>\n      <td>CK6</td>\n      <td>55.0</td>\n      <td>Found</td>\n      <td>2101.0</td>\n      <td>0.00000</td>\n      <td>0.00000</td>\n      <td>(0.000000, 0.000000)</td>\n    </tr>\n    <tr>\n      <th>38188</th>\n      <td>Ur</td>\n      <td>24125</td>\n      <td>Valid</td>\n      <td>Iron</td>\n      <td>NaN</td>\n      <td>Found</td>\n      <td>2501.0</td>\n      <td>30.90000</td>\n      <td>46.01667</td>\n      <td>(30.900000, 46.016670)</td>\n    </tr>\n    <tr>\n      <th>38301</th>\n      <td>Wietrzno-Bobrka</td>\n      <td>24259</td>\n      <td>Valid</td>\n      <td>Iron</td>\n      <td>376.0</td>\n      <td>Found</td>\n      <td>601.0</td>\n      <td>49.41667</td>\n      <td>21.70000</td>\n      <td>(49.416670, 21.700000)</td>\n    </tr>\n  </tbody>\n</table>\n</div>"
     },
     "execution_count": 8,
     "metadata": {},
     "output_type": "execute_result"
    }
   ],
   "source": [
    "####### QUES 4a\n",
    "new_df1 = df[(df['year'] < 860) | (df['year'] > 2016)]\n",
    "new_df1"
   ]
  },
  {
   "cell_type": "code",
   "execution_count": 9,
   "id": "43e9e528",
   "metadata": {
    "scrolled": false
   },
   "outputs": [
    {
     "data": {
      "text/plain": "             name     id nametype              recclass      mass   fall  \\\n0          Aachen      1    Valid                    L5      21.0   Fell   \n1          Aarhus      2    Valid                    H6     720.0   Fell   \n2            Abee      6    Valid                   EH4  107000.0   Fell   \n3        Acapulco     10    Valid           Acapulcoite    1914.0   Fell   \n4         Achiras    370    Valid                    L6     780.0   Fell   \n...           ...    ...      ...                   ...       ...    ...   \n45711  Zillah 002  31356    Valid               Eucrite     172.0  Found   \n45712      Zinder  30409    Valid  Pallasite, ungrouped      46.0  Found   \n45713        Zlin  30410    Valid                    H4       3.3  Found   \n45714   Zubkovsky  31357    Valid                    L6    2167.0  Found   \n45715  Zulu Queen  30414    Valid                  L3.7     200.0  Found   \n\n         year    reclat    reclong               GeoLocation  \n0      1880.0  50.77500    6.08333     (50.775000, 6.083330)  \n1      1951.0  56.18333   10.23333    (56.183330, 10.233330)  \n2      1952.0  54.21667 -113.00000  (54.216670, -113.000000)  \n3      1976.0  16.88333  -99.90000   (16.883330, -99.900000)  \n4      1902.0 -33.16667  -64.95000  (-33.166670, -64.950000)  \n...       ...       ...        ...                       ...  \n45711  1990.0  29.03700   17.01850    (29.037000, 17.018500)  \n45712  1999.0  13.78333    8.96667     (13.783330, 8.966670)  \n45713  1939.0  49.25000   17.66667    (49.250000, 17.666670)  \n45714  2003.0  49.78917   41.50460    (49.789170, 41.504600)  \n45715  1976.0  33.98333 -115.68333  (33.983330, -115.683330)  \n\n[38400 rows x 10 columns]",
      "text/html": "<div>\n<style scoped>\n    .dataframe tbody tr th:only-of-type {\n        vertical-align: middle;\n    }\n\n    .dataframe tbody tr th {\n        vertical-align: top;\n    }\n\n    .dataframe thead th {\n        text-align: right;\n    }\n</style>\n<table border=\"1\" class=\"dataframe\">\n  <thead>\n    <tr style=\"text-align: right;\">\n      <th></th>\n      <th>name</th>\n      <th>id</th>\n      <th>nametype</th>\n      <th>recclass</th>\n      <th>mass</th>\n      <th>fall</th>\n      <th>year</th>\n      <th>reclat</th>\n      <th>reclong</th>\n      <th>GeoLocation</th>\n    </tr>\n  </thead>\n  <tbody>\n    <tr>\n      <th>0</th>\n      <td>Aachen</td>\n      <td>1</td>\n      <td>Valid</td>\n      <td>L5</td>\n      <td>21.0</td>\n      <td>Fell</td>\n      <td>1880.0</td>\n      <td>50.77500</td>\n      <td>6.08333</td>\n      <td>(50.775000, 6.083330)</td>\n    </tr>\n    <tr>\n      <th>1</th>\n      <td>Aarhus</td>\n      <td>2</td>\n      <td>Valid</td>\n      <td>H6</td>\n      <td>720.0</td>\n      <td>Fell</td>\n      <td>1951.0</td>\n      <td>56.18333</td>\n      <td>10.23333</td>\n      <td>(56.183330, 10.233330)</td>\n    </tr>\n    <tr>\n      <th>2</th>\n      <td>Abee</td>\n      <td>6</td>\n      <td>Valid</td>\n      <td>EH4</td>\n      <td>107000.0</td>\n      <td>Fell</td>\n      <td>1952.0</td>\n      <td>54.21667</td>\n      <td>-113.00000</td>\n      <td>(54.216670, -113.000000)</td>\n    </tr>\n    <tr>\n      <th>3</th>\n      <td>Acapulco</td>\n      <td>10</td>\n      <td>Valid</td>\n      <td>Acapulcoite</td>\n      <td>1914.0</td>\n      <td>Fell</td>\n      <td>1976.0</td>\n      <td>16.88333</td>\n      <td>-99.90000</td>\n      <td>(16.883330, -99.900000)</td>\n    </tr>\n    <tr>\n      <th>4</th>\n      <td>Achiras</td>\n      <td>370</td>\n      <td>Valid</td>\n      <td>L6</td>\n      <td>780.0</td>\n      <td>Fell</td>\n      <td>1902.0</td>\n      <td>-33.16667</td>\n      <td>-64.95000</td>\n      <td>(-33.166670, -64.950000)</td>\n    </tr>\n    <tr>\n      <th>...</th>\n      <td>...</td>\n      <td>...</td>\n      <td>...</td>\n      <td>...</td>\n      <td>...</td>\n      <td>...</td>\n      <td>...</td>\n      <td>...</td>\n      <td>...</td>\n      <td>...</td>\n    </tr>\n    <tr>\n      <th>45711</th>\n      <td>Zillah 002</td>\n      <td>31356</td>\n      <td>Valid</td>\n      <td>Eucrite</td>\n      <td>172.0</td>\n      <td>Found</td>\n      <td>1990.0</td>\n      <td>29.03700</td>\n      <td>17.01850</td>\n      <td>(29.037000, 17.018500)</td>\n    </tr>\n    <tr>\n      <th>45712</th>\n      <td>Zinder</td>\n      <td>30409</td>\n      <td>Valid</td>\n      <td>Pallasite, ungrouped</td>\n      <td>46.0</td>\n      <td>Found</td>\n      <td>1999.0</td>\n      <td>13.78333</td>\n      <td>8.96667</td>\n      <td>(13.783330, 8.966670)</td>\n    </tr>\n    <tr>\n      <th>45713</th>\n      <td>Zlin</td>\n      <td>30410</td>\n      <td>Valid</td>\n      <td>H4</td>\n      <td>3.3</td>\n      <td>Found</td>\n      <td>1939.0</td>\n      <td>49.25000</td>\n      <td>17.66667</td>\n      <td>(49.250000, 17.666670)</td>\n    </tr>\n    <tr>\n      <th>45714</th>\n      <td>Zubkovsky</td>\n      <td>31357</td>\n      <td>Valid</td>\n      <td>L6</td>\n      <td>2167.0</td>\n      <td>Found</td>\n      <td>2003.0</td>\n      <td>49.78917</td>\n      <td>41.50460</td>\n      <td>(49.789170, 41.504600)</td>\n    </tr>\n    <tr>\n      <th>45715</th>\n      <td>Zulu Queen</td>\n      <td>30414</td>\n      <td>Valid</td>\n      <td>L3.7</td>\n      <td>200.0</td>\n      <td>Found</td>\n      <td>1976.0</td>\n      <td>33.98333</td>\n      <td>-115.68333</td>\n      <td>(33.983330, -115.683330)</td>\n    </tr>\n  </tbody>\n</table>\n<p>38400 rows × 10 columns</p>\n</div>"
     },
     "execution_count": 9,
     "metadata": {},
     "output_type": "execute_result"
    }
   ],
   "source": [
    "####### QUES 4b\n",
    "new_df2 = df[(df['reclong'] <= 180) & (df['reclong'] >= -180)]\n",
    "new_df2\n"
   ]
  },
  {
   "cell_type": "code",
   "execution_count": 10,
   "id": "56aa254b",
   "metadata": {},
   "outputs": [
    {
     "data": {
      "text/plain": "                        name     id nametype   recclass     mass   fall  \\\n37     Northwest Africa 5815  50693    Valid         L5   256.80  Found   \n596              Mason Gully  53653    Valid         H5    24.54   Fell   \n610                     Meru  15491    Valid        LL6  6000.00   Fell   \n1648       Allan Hills 09004  52119    Valid  Howardite   221.70  Found   \n1649       Allan Hills 09005  55797    Valid         L5   122.30  Found   \n...                      ...    ...      ...        ...      ...    ...   \n45655          Yamato 984144  40764    Valid         H6    37.44  Found   \n45656          Yamato 984145  40765    Valid         L6    54.80  Found   \n45657          Yamato 984146  40766    Valid         H3    19.32  Found   \n45658          Yamato 984147  40767    Valid        LL6   118.90  Found   \n45659          Yamato 984148  40768    Valid         L5     4.59  Found   \n\n         year  reclat   reclong            GeoLocation  \n37        NaN     0.0   0.00000   (0.000000, 0.000000)  \n596    2010.0     0.0   0.00000   (0.000000, 0.000000)  \n610    1945.0     0.0  37.66667  (0.000000, 37.666670)  \n1648   2009.0     0.0   0.00000   (0.000000, 0.000000)  \n1649   2009.0     0.0   0.00000   (0.000000, 0.000000)  \n...       ...     ...       ...                    ...  \n45655  1998.0     0.0   0.00000   (0.000000, 0.000000)  \n45656  1998.0     0.0   0.00000   (0.000000, 0.000000)  \n45657  1998.0     0.0   0.00000   (0.000000, 0.000000)  \n45658  1998.0     0.0   0.00000   (0.000000, 0.000000)  \n45659  1998.0     0.0   0.00000   (0.000000, 0.000000)  \n\n[6438 rows x 10 columns]",
      "text/html": "<div>\n<style scoped>\n    .dataframe tbody tr th:only-of-type {\n        vertical-align: middle;\n    }\n\n    .dataframe tbody tr th {\n        vertical-align: top;\n    }\n\n    .dataframe thead th {\n        text-align: right;\n    }\n</style>\n<table border=\"1\" class=\"dataframe\">\n  <thead>\n    <tr style=\"text-align: right;\">\n      <th></th>\n      <th>name</th>\n      <th>id</th>\n      <th>nametype</th>\n      <th>recclass</th>\n      <th>mass</th>\n      <th>fall</th>\n      <th>year</th>\n      <th>reclat</th>\n      <th>reclong</th>\n      <th>GeoLocation</th>\n    </tr>\n  </thead>\n  <tbody>\n    <tr>\n      <th>37</th>\n      <td>Northwest Africa 5815</td>\n      <td>50693</td>\n      <td>Valid</td>\n      <td>L5</td>\n      <td>256.80</td>\n      <td>Found</td>\n      <td>NaN</td>\n      <td>0.0</td>\n      <td>0.00000</td>\n      <td>(0.000000, 0.000000)</td>\n    </tr>\n    <tr>\n      <th>596</th>\n      <td>Mason Gully</td>\n      <td>53653</td>\n      <td>Valid</td>\n      <td>H5</td>\n      <td>24.54</td>\n      <td>Fell</td>\n      <td>2010.0</td>\n      <td>0.0</td>\n      <td>0.00000</td>\n      <td>(0.000000, 0.000000)</td>\n    </tr>\n    <tr>\n      <th>610</th>\n      <td>Meru</td>\n      <td>15491</td>\n      <td>Valid</td>\n      <td>LL6</td>\n      <td>6000.00</td>\n      <td>Fell</td>\n      <td>1945.0</td>\n      <td>0.0</td>\n      <td>37.66667</td>\n      <td>(0.000000, 37.666670)</td>\n    </tr>\n    <tr>\n      <th>1648</th>\n      <td>Allan Hills 09004</td>\n      <td>52119</td>\n      <td>Valid</td>\n      <td>Howardite</td>\n      <td>221.70</td>\n      <td>Found</td>\n      <td>2009.0</td>\n      <td>0.0</td>\n      <td>0.00000</td>\n      <td>(0.000000, 0.000000)</td>\n    </tr>\n    <tr>\n      <th>1649</th>\n      <td>Allan Hills 09005</td>\n      <td>55797</td>\n      <td>Valid</td>\n      <td>L5</td>\n      <td>122.30</td>\n      <td>Found</td>\n      <td>2009.0</td>\n      <td>0.0</td>\n      <td>0.00000</td>\n      <td>(0.000000, 0.000000)</td>\n    </tr>\n    <tr>\n      <th>...</th>\n      <td>...</td>\n      <td>...</td>\n      <td>...</td>\n      <td>...</td>\n      <td>...</td>\n      <td>...</td>\n      <td>...</td>\n      <td>...</td>\n      <td>...</td>\n      <td>...</td>\n    </tr>\n    <tr>\n      <th>45655</th>\n      <td>Yamato 984144</td>\n      <td>40764</td>\n      <td>Valid</td>\n      <td>H6</td>\n      <td>37.44</td>\n      <td>Found</td>\n      <td>1998.0</td>\n      <td>0.0</td>\n      <td>0.00000</td>\n      <td>(0.000000, 0.000000)</td>\n    </tr>\n    <tr>\n      <th>45656</th>\n      <td>Yamato 984145</td>\n      <td>40765</td>\n      <td>Valid</td>\n      <td>L6</td>\n      <td>54.80</td>\n      <td>Found</td>\n      <td>1998.0</td>\n      <td>0.0</td>\n      <td>0.00000</td>\n      <td>(0.000000, 0.000000)</td>\n    </tr>\n    <tr>\n      <th>45657</th>\n      <td>Yamato 984146</td>\n      <td>40766</td>\n      <td>Valid</td>\n      <td>H3</td>\n      <td>19.32</td>\n      <td>Found</td>\n      <td>1998.0</td>\n      <td>0.0</td>\n      <td>0.00000</td>\n      <td>(0.000000, 0.000000)</td>\n    </tr>\n    <tr>\n      <th>45658</th>\n      <td>Yamato 984147</td>\n      <td>40767</td>\n      <td>Valid</td>\n      <td>LL6</td>\n      <td>118.90</td>\n      <td>Found</td>\n      <td>1998.0</td>\n      <td>0.0</td>\n      <td>0.00000</td>\n      <td>(0.000000, 0.000000)</td>\n    </tr>\n    <tr>\n      <th>45659</th>\n      <td>Yamato 984148</td>\n      <td>40768</td>\n      <td>Valid</td>\n      <td>L5</td>\n      <td>4.59</td>\n      <td>Found</td>\n      <td>1998.0</td>\n      <td>0.0</td>\n      <td>0.00000</td>\n      <td>(0.000000, 0.000000)</td>\n    </tr>\n  </tbody>\n</table>\n<p>6438 rows × 10 columns</p>\n</div>"
     },
     "execution_count": 10,
     "metadata": {},
     "output_type": "execute_result"
    }
   ],
   "source": [
    "####### QUES 4c\n",
    "new_df3 = new_df2[(new_df2['reclat']== 0) | (new_df2['reclong'] == 0)]\n",
    "new_df3"
   ]
  },
  {
   "cell_type": "code",
   "execution_count": 11,
   "id": "c112d7ca",
   "metadata": {},
   "outputs": [
    {
     "data": {
      "text/plain": "True"
     },
     "execution_count": 11,
     "metadata": {},
     "output_type": "execute_result"
    }
   ],
   "source": [
    "####### QUES 5\n",
    "new_df3.isnull().values.any()"
   ]
  },
  {
   "cell_type": "code",
   "execution_count": 12,
   "id": "a35a716d",
   "metadata": {},
   "outputs": [
    {
     "data": {
      "text/plain": "                    name     id nametype      recclass  mass   fall    year  \\\n12       Aire-sur-la-Lys    425    Valid       Unknown   NaN   Fell  1769.0   \n38                Angers   2301    Valid            L6   NaN   Fell  1822.0   \n76     Barcelona (stone)   4944    Valid            OC   NaN   Fell  1704.0   \n93              Belville   5009    Valid            OC   NaN   Fell  1937.0   \n172    Castel Berardenga   5292    Valid    Stone-uncl   NaN   Fell  1791.0   \n...                  ...    ...      ...           ...   ...    ...     ...   \n38275     Wei-hui-fu (a)  24231    Valid          Iron   NaN  Found  1931.0   \n38276     Wei-hui-fu (b)  24232    Valid          Iron   NaN  Found  1931.0   \n38278            Weiyuan  24233    Valid  Mesosiderite   NaN  Found  1978.0   \n41460      Yamato 792768  28117    Valid           CM2   NaN  Found  1979.0   \n45698      Zapata County  30393    Valid          Iron   NaN  Found  1930.0   \n\n         reclat    reclong               GeoLocation  \n12     50.66667    2.33333     (50.666670, 2.333330)  \n38     47.46667   -0.55000    (47.466670, -0.550000)  \n76     41.36667    2.16667     (41.366670, 2.166670)  \n93    -32.33333  -64.86667  (-32.333330, -64.866670)  \n172    43.35000   11.50000    (43.350000, 11.500000)  \n...         ...        ...                       ...  \n38275       NaN        NaN                       NaN  \n38276       NaN        NaN                       NaN  \n38278  35.26667  104.31667   (35.266670, 104.316670)  \n41460 -71.50000   35.66667   (-71.500000, 35.666670)  \n45698  27.00000  -99.00000   (27.000000, -99.000000)  \n\n[131 rows x 10 columns]",
      "text/html": "<div>\n<style scoped>\n    .dataframe tbody tr th:only-of-type {\n        vertical-align: middle;\n    }\n\n    .dataframe tbody tr th {\n        vertical-align: top;\n    }\n\n    .dataframe thead th {\n        text-align: right;\n    }\n</style>\n<table border=\"1\" class=\"dataframe\">\n  <thead>\n    <tr style=\"text-align: right;\">\n      <th></th>\n      <th>name</th>\n      <th>id</th>\n      <th>nametype</th>\n      <th>recclass</th>\n      <th>mass</th>\n      <th>fall</th>\n      <th>year</th>\n      <th>reclat</th>\n      <th>reclong</th>\n      <th>GeoLocation</th>\n    </tr>\n  </thead>\n  <tbody>\n    <tr>\n      <th>12</th>\n      <td>Aire-sur-la-Lys</td>\n      <td>425</td>\n      <td>Valid</td>\n      <td>Unknown</td>\n      <td>NaN</td>\n      <td>Fell</td>\n      <td>1769.0</td>\n      <td>50.66667</td>\n      <td>2.33333</td>\n      <td>(50.666670, 2.333330)</td>\n    </tr>\n    <tr>\n      <th>38</th>\n      <td>Angers</td>\n      <td>2301</td>\n      <td>Valid</td>\n      <td>L6</td>\n      <td>NaN</td>\n      <td>Fell</td>\n      <td>1822.0</td>\n      <td>47.46667</td>\n      <td>-0.55000</td>\n      <td>(47.466670, -0.550000)</td>\n    </tr>\n    <tr>\n      <th>76</th>\n      <td>Barcelona (stone)</td>\n      <td>4944</td>\n      <td>Valid</td>\n      <td>OC</td>\n      <td>NaN</td>\n      <td>Fell</td>\n      <td>1704.0</td>\n      <td>41.36667</td>\n      <td>2.16667</td>\n      <td>(41.366670, 2.166670)</td>\n    </tr>\n    <tr>\n      <th>93</th>\n      <td>Belville</td>\n      <td>5009</td>\n      <td>Valid</td>\n      <td>OC</td>\n      <td>NaN</td>\n      <td>Fell</td>\n      <td>1937.0</td>\n      <td>-32.33333</td>\n      <td>-64.86667</td>\n      <td>(-32.333330, -64.866670)</td>\n    </tr>\n    <tr>\n      <th>172</th>\n      <td>Castel Berardenga</td>\n      <td>5292</td>\n      <td>Valid</td>\n      <td>Stone-uncl</td>\n      <td>NaN</td>\n      <td>Fell</td>\n      <td>1791.0</td>\n      <td>43.35000</td>\n      <td>11.50000</td>\n      <td>(43.350000, 11.500000)</td>\n    </tr>\n    <tr>\n      <th>...</th>\n      <td>...</td>\n      <td>...</td>\n      <td>...</td>\n      <td>...</td>\n      <td>...</td>\n      <td>...</td>\n      <td>...</td>\n      <td>...</td>\n      <td>...</td>\n      <td>...</td>\n    </tr>\n    <tr>\n      <th>38275</th>\n      <td>Wei-hui-fu (a)</td>\n      <td>24231</td>\n      <td>Valid</td>\n      <td>Iron</td>\n      <td>NaN</td>\n      <td>Found</td>\n      <td>1931.0</td>\n      <td>NaN</td>\n      <td>NaN</td>\n      <td>NaN</td>\n    </tr>\n    <tr>\n      <th>38276</th>\n      <td>Wei-hui-fu (b)</td>\n      <td>24232</td>\n      <td>Valid</td>\n      <td>Iron</td>\n      <td>NaN</td>\n      <td>Found</td>\n      <td>1931.0</td>\n      <td>NaN</td>\n      <td>NaN</td>\n      <td>NaN</td>\n    </tr>\n    <tr>\n      <th>38278</th>\n      <td>Weiyuan</td>\n      <td>24233</td>\n      <td>Valid</td>\n      <td>Mesosiderite</td>\n      <td>NaN</td>\n      <td>Found</td>\n      <td>1978.0</td>\n      <td>35.26667</td>\n      <td>104.31667</td>\n      <td>(35.266670, 104.316670)</td>\n    </tr>\n    <tr>\n      <th>41460</th>\n      <td>Yamato 792768</td>\n      <td>28117</td>\n      <td>Valid</td>\n      <td>CM2</td>\n      <td>NaN</td>\n      <td>Found</td>\n      <td>1979.0</td>\n      <td>-71.50000</td>\n      <td>35.66667</td>\n      <td>(-71.500000, 35.666670)</td>\n    </tr>\n    <tr>\n      <th>45698</th>\n      <td>Zapata County</td>\n      <td>30393</td>\n      <td>Valid</td>\n      <td>Iron</td>\n      <td>NaN</td>\n      <td>Found</td>\n      <td>1930.0</td>\n      <td>27.00000</td>\n      <td>-99.00000</td>\n      <td>(27.000000, -99.000000)</td>\n    </tr>\n  </tbody>\n</table>\n<p>131 rows × 10 columns</p>\n</div>"
     },
     "execution_count": 12,
     "metadata": {},
     "output_type": "execute_result"
    }
   ],
   "source": [
    "####### QUES 6\n",
    "new_df4 = df[df['mass'].isnull()]\n",
    "new_df4"
   ]
  },
  {
   "cell_type": "code",
   "execution_count": 13,
   "id": "b1b0662e",
   "metadata": {},
   "outputs": [
    {
     "name": "stdout",
     "output_type": "stream",
     "text": [
      "count    4.558500e+04\n",
      "mean     1.327808e+04\n",
      "std      5.749889e+05\n",
      "min      0.000000e+00\n",
      "25%      7.200000e+00\n",
      "50%      3.260000e+01\n",
      "75%      2.026000e+02\n",
      "max      6.000000e+07\n",
      "Name: mass, dtype: float64\n"
     ]
    }
   ],
   "source": [
    "####### QUES 7\n",
    "correct_lat_long_df = df\n",
    "print(correct_lat_long_df['mass'].describe())"
   ]
  },
  {
   "cell_type": "code",
   "execution_count": 14,
   "id": "2d7497a4",
   "metadata": {},
   "outputs": [
    {
     "data": {
      "text/plain": "array([   12,    38,    76,    93,   172,   204,   262,   308,   312,\n         320,   324,   346,   392,   561,   577,   644,   664,   678,\n         692,   709,   729,   747,   751,   773,   785,   791,   865,\n         953,  1014,  1040,  1051,  1076,  3440,  3452,  5044,  5045,\n        5123,  5182,  5242,  5268,  5432,  5468,  5479,  5583,  5693,\n        5694,  6844,  6876,  9168,  9217, 12536, 12539, 12595, 15938,\n       15943, 15944, 15959, 16356, 16367, 16368, 16403, 16472, 16547,\n       17249, 17273, 17341, 17363, 17391, 17462, 19720, 22946, 26270,\n       26398, 28736, 31013, 31014, 31015, 31016, 31017, 31018, 31019,\n       31020, 31021, 31022, 31023, 31024, 31025, 31026, 31027, 31028,\n       31029, 31030, 31031, 31032, 31033, 31034, 31035, 31036, 31037,\n       31038, 31039, 31040, 31041, 31042, 31043, 31044, 31045, 31046,\n       31047, 31048, 31049, 31050, 31051, 31052, 31053, 31054, 31055,\n       31056, 31057, 31058, 31059, 31097, 31141, 31146, 36812, 38188,\n       38275, 38276, 38278, 41460, 45698], dtype=int64)"
     },
     "execution_count": 14,
     "metadata": {},
     "output_type": "execute_result"
    }
   ],
   "source": [
    "####### QUES 8\n",
    "arr = np.array(new_df4.index)\n",
    "arr"
   ]
  },
  {
   "cell_type": "code",
   "execution_count": 15,
   "id": "78e3a359",
   "metadata": {},
   "outputs": [
    {
     "data": {
      "text/plain": "12      NaN\n38      NaN\n76      NaN\n93      NaN\n172     NaN\n         ..\n38275   NaN\n38276   NaN\n38278   NaN\n41460   NaN\n45698   NaN\nName: mass, Length: 131, dtype: float64"
     },
     "execution_count": 15,
     "metadata": {},
     "output_type": "execute_result"
    }
   ],
   "source": [
    "####### QUES 9\n",
    "new_df4['mass']"
   ]
  },
  {
   "cell_type": "code",
   "execution_count": 16,
   "id": "10fe8fe6",
   "metadata": {},
   "outputs": [],
   "source": [
    "X = df['mass'].median()"
   ]
  },
  {
   "cell_type": "code",
   "execution_count": 17,
   "id": "5ff37729",
   "metadata": {},
   "outputs": [],
   "source": [
    "####### QUES 10\n",
    "df['mass']=df['mass'].fillna(df['mass'].median())"
   ]
  },
  {
   "cell_type": "code",
   "execution_count": 18,
   "id": "0b82c73d",
   "metadata": {},
   "outputs": [
    {
     "data": {
      "text/plain": "False"
     },
     "execution_count": 18,
     "metadata": {},
     "output_type": "execute_result"
    }
   ],
   "source": [
    "####### QUES 11\n",
    "df['mass'].isnull().values.any()"
   ]
  },
  {
   "cell_type": "code",
   "execution_count": 19,
   "id": "80e7633f",
   "metadata": {},
   "outputs": [
    {
     "name": "stdout",
     "output_type": "stream",
     "text": [
      "count    1.310000e+02\n",
      "mean     3.260000e+01\n",
      "std      4.992892e-14\n",
      "min      3.260000e+01\n",
      "25%      3.260000e+01\n",
      "50%      3.260000e+01\n",
      "75%      3.260000e+01\n",
      "max      3.260000e+01\n",
      "Name: mass, dtype: float64\n"
     ]
    }
   ],
   "source": [
    "####### QUES 12\n",
    "print(df.loc[arr,'mass'].describe())"
   ]
  },
  {
   "cell_type": "code",
   "execution_count": 20,
   "id": "b9eab09f",
   "metadata": {},
   "outputs": [
    {
     "data": {
      "text/plain": "count    4.571600e+04\nmean     1.324012e+04\nstd      5.741649e+05\nmin      0.000000e+00\n25%      7.200000e+00\n50%      3.260000e+01\n75%      2.011000e+02\nmax      6.000000e+07\nName: mass, dtype: float64"
     },
     "execution_count": 20,
     "metadata": {},
     "output_type": "execute_result"
    }
   ],
   "source": [
    "####### QUES 13\n",
    "df['mass'].describe()"
   ]
  },
  {
   "cell_type": "code",
   "execution_count": 21,
   "id": "0369ed23",
   "metadata": {},
   "outputs": [
    {
     "name": "stdout",
     "output_type": "stream",
     "text": [
      "[1 2 3 4 5 6 7 8 9]\n",
      "[[1 2 3]\n",
      " [4 5 6]\n",
      " [7 8 9]]\n",
      "[[1, 2, 3], [4, 5, 6], [7, 8, 9]]\n"
     ]
    }
   ],
   "source": [
    "####### QUES 14\n",
    "arr9=np.arange(1,10) \n",
    "print(arr9) \n",
    "arr9.shape=(3,3) \n",
    "print(arr9) \n",
    "List=arr9.tolist() \n",
    "print(List)"
   ]
  }
 ],
 "metadata": {
  "kernelspec": {
   "display_name": "Python 3 (ipykernel)",
   "language": "python",
   "name": "python3"
  },
  "language_info": {
   "codemirror_mode": {
    "name": "ipython",
    "version": 3
   },
   "file_extension": ".py",
   "mimetype": "text/x-python",
   "name": "python",
   "nbconvert_exporter": "python",
   "pygments_lexer": "ipython3",
   "version": "3.9.12"
  }
 },
 "nbformat": 4,
 "nbformat_minor": 5
}
